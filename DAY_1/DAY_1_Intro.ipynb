{
  "cells": [
    {
      "cell_type": "markdown",
      "metadata": {
        "id": "VODcqfERZXxJ"
      },
      "source": [
        "# All about Iris Dataset\n",
        "\n",
        "It is a classic dataset that was introduced by the British biologist and statistician Ronald A. Fisher in 1936. The dataset is named after the Iris flower species, as it contains measurements of different iris flowers.\n",
        "\n",
        "\n",
        "Number of Instances: 150\n",
        "\n",
        "\n",
        "Number of Attributes: 4 (plus a target variable, the class)\n",
        "\n",
        "\n",
        "Attribute Information:\n",
        "\n",
        "*  Sepal Length (in cm)\n",
        "*  Sepal Width (in cm)\n",
        "*  Petal Length (in cm)\n",
        "*  Petal Width (in cm)\n",
        "*  Class (the target variable)\n",
        "\n",
        "\n",
        "\n",
        "Class Labels: There are three classes of iris flowers in the dataset:\n",
        "  \n",
        "\n",
        "*   Iris Setosa\n",
        "*   Iris Versicolor\n",
        "*   Iris Virginica\n",
        "\n",
        "\n",
        "The dataset contains 50 samples from each of the three species of Iris flowers, making a total of 150 samples."
      ]
    },
    {
      "cell_type": "code",
      "execution_count": null,
      "metadata": {
        "id": "RAtnoT3rYibT"
      },
      "outputs": [],
      "source": [
        "from sklearn.datasets import load_iris"
      ]
    },
    {
      "cell_type": "code",
      "execution_count": null,
      "metadata": {
        "id": "FKMNrYPAixyg"
      },
      "outputs": [],
      "source": [
        "import numpy as np"
      ]
    },
    {
      "cell_type": "code",
      "execution_count": null,
      "metadata": {
        "id": "W5PRGNLgY3Fr"
      },
      "outputs": [],
      "source": [
        "iris=load_iris()\n",
        "# print(iris)"
      ]
    },
    {
      "cell_type": "markdown",
      "metadata": {
        "id": "2wcW1gNmZTJ1"
      },
      "source": [
        "Each row is an observation (also known as : sample, example, instance, record)\n",
        "\n",
        "Each column is a feature (also known as: Predictor, attribute, Independent Variable, input, regressor, Covariate)"
      ]
    },
    {
      "cell_type": "code",
      "execution_count": null,
      "metadata": {
        "colab": {
          "base_uri": "https://localhost:8080/"
        },
        "id": "RX7Xfe9BY3Bj",
        "outputId": "117169b5-478b-42a1-f4a9-72b85c0e4ce8"
      },
      "outputs": [
        {
          "name": "stdout",
          "output_type": "stream",
          "text": [
            "['sepal length (cm)', 'sepal width (cm)', 'petal length (cm)', 'petal width (cm)']\n"
          ]
        }
      ],
      "source": [
        "# print the names of the four features\n",
        "print (iris.feature_names)"
      ]
    },
    {
      "cell_type": "code",
      "execution_count": null,
      "metadata": {
        "colab": {
          "base_uri": "https://localhost:8080/"
        },
        "id": "Si-zuWbjY25a",
        "outputId": "8fcf2a37-9791-42f1-b5c6-58930de333ff"
      },
      "outputs": [
        {
          "name": "stdout",
          "output_type": "stream",
          "text": [
            "[0 0 0 0 0 0 0 0 0 0 0 0 0 0 0 0 0 0 0 0 0 0 0 0 0 0 0 0 0 0 0 0 0 0 0 0 0\n",
            " 0 0 0 0 0 0 0 0 0 0 0 0 0 1 1 1 1 1 1 1 1 1 1 1 1 1 1 1 1 1 1 1 1 1 1 1 1\n",
            " 1 1 1 1 1 1 1 1 1 1 1 1 1 1 1 1 1 1 1 1 1 1 1 1 1 1 2 2 2 2 2 2 2 2 2 2 2\n",
            " 2 2 2 2 2 2 2 2 2 2 2 2 2 2 2 2 2 2 2 2 2 2 2 2 2 2 2 2 2 2 2 2 2 2 2 2 2\n",
            " 2 2]\n"
          ]
        }
      ],
      "source": [
        "# print the integers representing the species of each observation\n",
        "print (iris.target)"
      ]
    },
    {
      "cell_type": "code",
      "execution_count": null,
      "metadata": {
        "colab": {
          "base_uri": "https://localhost:8080/"
        },
        "id": "LGXxa5JiajYs",
        "outputId": "a8734185-0f06-4957-acf5-24fdad8cb246"
      },
      "outputs": [
        {
          "name": "stdout",
          "output_type": "stream",
          "text": [
            "['setosa' 'versicolor' 'virginica']\n"
          ]
        }
      ],
      "source": [
        "# print the encoding scheme for species; 0 = Setosa , 1=Versicolor, 2= virginica\n",
        "print (iris.target_names)"
      ]
    },
    {
      "cell_type": "code",
      "execution_count": null,
      "metadata": {
        "colab": {
          "base_uri": "https://localhost:8080/"
        },
        "id": "RFgqk-XOajN-",
        "outputId": "599bdca2-1a1e-42a8-ac69-5aa6eb06a29e"
      },
      "outputs": [
        {
          "data": {
            "text/plain": [
              "str"
            ]
          },
          "execution_count": 7,
          "metadata": {},
          "output_type": "execute_result"
        }
      ],
      "source": [
        "# Check the types of the features and response\n",
        "type('iris.data')\n",
        "type('iris.target')"
      ]
    },
    {
      "cell_type": "code",
      "execution_count": null,
      "metadata": {
        "colab": {
          "base_uri": "https://localhost:8080/"
        },
        "id": "PATiWwYLar4_",
        "outputId": "a3907048-d357-4e19-c7a8-db421e48cc2d"
      },
      "outputs": [
        {
          "data": {
            "text/plain": [
              "(150, 4)"
            ]
          },
          "execution_count": 8,
          "metadata": {},
          "output_type": "execute_result"
        }
      ],
      "source": [
        "# Check the shape of the features\n",
        "#(first dimension = (ROWS) ie number of observations, second dimensions = (COLUMNS) ie number of features)\n",
        "iris.data.shape"
      ]
    },
    {
      "cell_type": "code",
      "execution_count": null,
      "metadata": {
        "colab": {
          "base_uri": "https://localhost:8080/"
        },
        "id": "kNnsNORjavtd",
        "outputId": "b60f9de2-985e-4b6d-fe27-1bc61b324818"
      },
      "outputs": [
        {
          "data": {
            "text/plain": [
              "(150,)"
            ]
          },
          "execution_count": 9,
          "metadata": {},
          "output_type": "execute_result"
        }
      ],
      "source": [
        "# Check the shape of the response (single dimension matching the number of observation)\n",
        "iris.target.shape"
      ]
    }
  ],
  "metadata": {
    "colab": {
      "provenance": []
    },
    "kernelspec": {
      "display_name": "Python 3",
      "language": "python",
      "name": "python3"
    },
    "language_info": {
      "name": "python",
      "version": "3.10.9 (v3.10.9:1dd9be6584, Dec  6 2022, 14:37:36) [Clang 13.0.0 (clang-1300.0.29.30)]"
    },
    "vscode": {
      "interpreter": {
        "hash": "aee8b7b246df8f9039afb4144a1f6fd8d2ca17a180786b69acc140d282b71a49"
      }
    }
  },
  "nbformat": 4,
  "nbformat_minor": 0
}
