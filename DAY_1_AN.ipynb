{
  "nbformat": 4,
  "nbformat_minor": 0,
  "metadata": {
    "colab": {
      "provenance": []
    },
    "kernelspec": {
      "name": "python3",
      "display_name": "Python 3"
    },
    "language_info": {
      "name": "python"
    }
  },
  "cells": [
    {
      "cell_type": "markdown",
      "source": [
        "# All about Iris Dataset\n",
        "\n",
        "It is a classic dataset that was introduced by the British biologist and statistician Ronald A. Fisher in 1936. The dataset is named after the Iris flower species, as it contains measurements of different iris flowers.\n",
        "\n",
        "\n",
        "Number of Instances: 150\n",
        "\n",
        "\n",
        "Number of Attributes: 4 (plus a target variable, the class)\n",
        "\n",
        "\n",
        "Attribute Information:\n",
        "\n",
        "*  Sepal Length (in cm)\n",
        "*  Sepal Width (in cm)\n",
        "*  Petal Length (in cm)\n",
        "*  Petal Width (in cm)\n",
        "*  Class (the target variable)\n",
        "\n",
        "\n",
        "\n",
        "Class Labels: There are three classes of iris flowers in the dataset:\n",
        "  \n",
        "\n",
        "*   Iris Setosa\n",
        "*   Iris Versicolor\n",
        "*   Iris Virginica\n",
        "\n",
        "\n",
        "The dataset contains 50 samples from each of the three species of Iris flowers, making a total of 150 samples."
      ],
      "metadata": {
        "id": "VODcqfERZXxJ"
      }
    },
    {
      "cell_type": "code",
      "execution_count": null,
      "metadata": {
        "id": "RAtnoT3rYibT"
      },
      "outputs": [],
      "source": [
        "from sklearn.datasets import load_iris"
      ]
    },
    {
      "cell_type": "code",
      "source": [
        "import numpy as np"
      ],
      "metadata": {
        "id": "FKMNrYPAixyg"
      },
      "execution_count": null,
      "outputs": []
    },
    {
      "cell_type": "code",
      "source": [
        "iris=load_iris()\n",
        "# print(iris)"
      ],
      "metadata": {
        "id": "W5PRGNLgY3Fr"
      },
      "execution_count": null,
      "outputs": []
    },
    {
      "cell_type": "markdown",
      "source": [
        "Each row is an observation (also known as : sample, example, instance, record)\n",
        "\n",
        "Each column is a feature (also known as: Predictor, attribute, Independent Variable, input, regressor, Covariate)"
      ],
      "metadata": {
        "id": "2wcW1gNmZTJ1"
      }
    },
    {
      "cell_type": "code",
      "source": [
        "# print the names of the four features\n",
        "print (iris.feature_names)"
      ],
      "metadata": {
        "colab": {
          "base_uri": "https://localhost:8080/"
        },
        "id": "RX7Xfe9BY3Bj",
        "outputId": "c93e669d-cee7-4be8-d663-c915109a1e05"
      },
      "execution_count": null,
      "outputs": [
        {
          "output_type": "stream",
          "name": "stdout",
          "text": [
            "['sepal length (cm)', 'sepal width (cm)', 'petal length (cm)', 'petal width (cm)']\n"
          ]
        }
      ]
    },
    {
      "cell_type": "code",
      "source": [
        "# print the integers representing the species of each observation\n",
        "print (iris.target)"
      ],
      "metadata": {
        "colab": {
          "base_uri": "https://localhost:8080/"
        },
        "id": "Si-zuWbjY25a",
        "outputId": "8e35523f-16ec-44b1-c566-606965fe6245"
      },
      "execution_count": null,
      "outputs": [
        {
          "output_type": "stream",
          "name": "stdout",
          "text": [
            "[0 0 0 0 0 0 0 0 0 0 0 0 0 0 0 0 0 0 0 0 0 0 0 0 0 0 0 0 0 0 0 0 0 0 0 0 0\n",
            " 0 0 0 0 0 0 0 0 0 0 0 0 0 1 1 1 1 1 1 1 1 1 1 1 1 1 1 1 1 1 1 1 1 1 1 1 1\n",
            " 1 1 1 1 1 1 1 1 1 1 1 1 1 1 1 1 1 1 1 1 1 1 1 1 1 1 2 2 2 2 2 2 2 2 2 2 2\n",
            " 2 2 2 2 2 2 2 2 2 2 2 2 2 2 2 2 2 2 2 2 2 2 2 2 2 2 2 2 2 2 2 2 2 2 2 2 2\n",
            " 2 2]\n"
          ]
        }
      ]
    },
    {
      "cell_type": "code",
      "source": [
        "# print the encoding scheme for species; 0 = Setosa , 1=Versicolor, 2= virginica\n",
        "print (iris.target_names)"
      ],
      "metadata": {
        "colab": {
          "base_uri": "https://localhost:8080/"
        },
        "id": "LGXxa5JiajYs",
        "outputId": "5336a2a8-10ea-4f45-d687-d7a9a5741dd7"
      },
      "execution_count": null,
      "outputs": [
        {
          "output_type": "stream",
          "name": "stdout",
          "text": [
            "['setosa' 'versicolor' 'virginica']\n"
          ]
        }
      ]
    },
    {
      "cell_type": "code",
      "source": [
        "# Check the types of the features and response\n",
        "type('iris.data')\n",
        "type('iris.target')"
      ],
      "metadata": {
        "colab": {
          "base_uri": "https://localhost:8080/"
        },
        "id": "RFgqk-XOajN-",
        "outputId": "440603d9-7c0d-4dee-ba8c-6f246a884e94"
      },
      "execution_count": null,
      "outputs": [
        {
          "output_type": "execute_result",
          "data": {
            "text/plain": [
              "str"
            ]
          },
          "metadata": {},
          "execution_count": 42
        }
      ]
    },
    {
      "cell_type": "code",
      "source": [
        "# Check the shape of the features\n",
        "#(first dimension = (ROWS) ie number of observations, second dimensions = (COLUMNS) ie number of features)\n",
        "iris.data.shape"
      ],
      "metadata": {
        "colab": {
          "base_uri": "https://localhost:8080/"
        },
        "id": "PATiWwYLar4_",
        "outputId": "a9e091f0-4e54-4637-f59d-931ba89e3a03"
      },
      "execution_count": null,
      "outputs": [
        {
          "output_type": "execute_result",
          "data": {
            "text/plain": [
              "(150, 4)"
            ]
          },
          "metadata": {},
          "execution_count": 43
        }
      ]
    },
    {
      "cell_type": "code",
      "source": [
        "# Check the sape of the response (single dimension matching the number of observation)\n",
        "iris.target.shape"
      ],
      "metadata": {
        "colab": {
          "base_uri": "https://localhost:8080/"
        },
        "id": "kNnsNORjavtd",
        "outputId": "7d7968ec-a194-46ae-d77a-824dbebd2eb9"
      },
      "execution_count": null,
      "outputs": [
        {
          "output_type": "execute_result",
          "data": {
            "text/plain": [
              "(150,)"
            ]
          },
          "metadata": {},
          "execution_count": 44
        }
      ]
    },
    {
      "cell_type": "markdown",
      "source": [
        "# Data Visualization"
      ],
      "metadata": {
        "id": "iIbxiIbla0SL"
      }
    },
    {
      "cell_type": "code",
      "source": [
        "# Extract the values for features and create a list called featuresAll\n",
        "featuresAll=[]\n",
        "features = iris.data[: , [0,1,2,3]]\n",
        "features.shape"
      ],
      "metadata": {
        "colab": {
          "base_uri": "https://localhost:8080/"
        },
        "id": "Y5qookI0ayo-",
        "outputId": "abf7cdb8-e25e-4205-fc98-b0d395c88812"
      },
      "execution_count": null,
      "outputs": [
        {
          "output_type": "execute_result",
          "data": {
            "text/plain": [
              "(150, 4)"
            ]
          },
          "metadata": {},
          "execution_count": 45
        }
      ]
    },
    {
      "cell_type": "code",
      "source": [
        "# Extract the values for targets\n",
        "targets = iris.target\n",
        "targets.reshape(targets.shape[0],-1)\n",
        "targets.shape"
      ],
      "metadata": {
        "colab": {
          "base_uri": "https://localhost:8080/"
        },
        "id": "AKa_G2M1ayR1",
        "outputId": "f6ac69b6-a686-400e-bdf6-fdecddac563f"
      },
      "execution_count": null,
      "outputs": [
        {
          "output_type": "execute_result",
          "data": {
            "text/plain": [
              "(150,)"
            ]
          },
          "metadata": {},
          "execution_count": 46
        }
      ]
    },
    {
      "cell_type": "code",
      "source": [
        "# Create a single feature array\n",
        "for observation in features:\n",
        "    featuresAll.append([observation[0] + observation[1] + observation[2] + observation[3]])\n",
        "print (featuresAll)"
      ],
      "metadata": {
        "colab": {
          "base_uri": "https://localhost:8080/"
        },
        "id": "lcPTvWMtbn_q",
        "outputId": "84b6cb3c-565f-4fd1-dedd-7fc538a391e2"
      },
      "execution_count": null,
      "outputs": [
        {
          "output_type": "stream",
          "name": "stdout",
          "text": [
            "[[10.2], [9.5], [9.4], [9.399999999999999], [10.2], [11.4], [9.700000000000001], [10.1], [8.9], [9.6], [10.8], [9.999999999999998], [9.299999999999999], [8.5], [11.2], [12.000000000000002], [11.000000000000002], [10.3], [11.5], [10.7], [10.7], [10.700000000000001], [9.399999999999999], [10.599999999999998], [10.299999999999999], [9.799999999999999], [10.4], [10.399999999999999], [10.2], [9.7], [9.7], [10.700000000000001], [10.9], [11.299999999999999], [9.7], [9.599999999999998], [10.5], [10.0], [8.9], [10.2], [10.100000000000001], [8.4], [9.1], [10.7], [11.2], [9.5], [10.699999999999998], [9.399999999999999], [10.7], [9.9], [16.299999999999997], [15.600000000000001], [16.4], [13.100000000000001], [15.4], [14.3], [15.9], [11.600000000000001], [15.4], [13.200000000000001], [11.5], [14.600000000000001], [13.2], [15.1], [13.4], [15.600000000000001], [14.6], [13.6], [14.4], [13.1], [15.700000000000003], [14.2], [15.200000000000001], [14.799999999999997], [14.900000000000002], [15.4], [15.799999999999999], [16.4], [14.9], [12.8], [12.799999999999999], [12.600000000000001], [13.6], [15.399999999999999], [14.4], [15.5], [16.0], [14.3], [14.0], [13.3], [13.7], [15.1], [13.6], [11.6], [13.8], [14.099999999999998], [14.100000000000001], [14.7], [11.7], [13.9], [18.1], [15.5], [18.1], [16.599999999999998], [17.5], [19.3], [13.6], [18.3], [16.8], [19.4], [16.799999999999997], [16.3], [17.400000000000002], [15.2], [16.099999999999998], [17.200000000000003], [16.8], [20.4], [19.500000000000004], [14.7], [18.1], [15.299999999999999], [19.2], [15.700000000000001], [17.8], [18.2], [15.600000000000001], [15.8], [16.9], [17.6], [18.199999999999996], [20.1], [17.0], [15.7], [15.7], [19.099999999999998], [17.7], [16.8], [15.600000000000001], [17.5], [17.8], [17.4], [15.5], [18.2], [18.2], [17.2], [15.700000000000001], [16.7], [17.3], [15.8]]\n"
          ]
        }
      ]
    },
    {
      "cell_type": "markdown",
      "source": [
        "**Scatter Plot - of the whole data**"
      ],
      "metadata": {
        "id": "HLSTciULbyaJ"
      }
    },
    {
      "cell_type": "code",
      "source": [
        "# Plotting the Scatter plot\n",
        "import matplotlib.pyplot as plt\n",
        "plt.scatter(featuresAll, targets, color='red', alpha =1.0)\n",
        "plt.rcParams['figure.figsize'] = [10,8]\n",
        "plt.title('Iris Dataset scatter Plot')\n",
        "plt.xlabel('Features')\n",
        "plt.ylabel('Targets')"
      ],
      "metadata": {
        "colab": {
          "base_uri": "https://localhost:8080/",
          "height": 736
        },
        "id": "-gsKSEwjbskW",
        "outputId": "b8690052-af08-4043-9889-24bb2d83fa71"
      },
      "execution_count": null,
      "outputs": [
        {
          "output_type": "execute_result",
          "data": {
            "text/plain": [
              "Text(0, 0.5, 'Targets')"
            ]
          },
          "metadata": {},
          "execution_count": 48
        },
        {
          "output_type": "display_data",
          "data": {
            "text/plain": [
              "<Figure size 1000x800 with 1 Axes>"
            ],
            "image/png": "[encoded data removed]"
          },
          "metadata": {}
        }
      ]
    },
    {
      "cell_type": "markdown",
      "source": [
        "**Scatter Plot - Speal Length vs Sepal Width**"
      ],
      "metadata": {
        "id": "r2X1l9S0b5W4"
      }
    },
    {
      "cell_type": "code",
      "source": [
        "#Finding the relationship between Sepal Length and Sepal width\n",
        "featuresAll = []\n",
        "targets = []\n",
        "for feature in features:\n",
        "    featuresAll.append(feature[0]) #Sepal length\n",
        "    targets.append(feature[1]) #sepal width\n",
        "\n",
        "groups = ('Iris-setosa','Iris-versicolor','Iris-virginica')\n",
        "colors = ('blue', 'green','red')\n",
        "data = ((featuresAll[:50], targets[:50]), (featuresAll[50:100], targets[50:100]),\n",
        "        (featuresAll[100:150], targets[100:150]))\n",
        "\n",
        "for item, color, group in zip(data,colors,groups):\n",
        "    x, y = item\n",
        "    plt.scatter(x, y,color=color,alpha=1)\n",
        "    plt.title('Iris Dataset scatter Plot')\n",
        "plt.xlabel('sepal length')\n",
        "plt.ylabel('Sepal width')\n",
        "plt.show()"
      ],
      "metadata": {
        "colab": {
          "base_uri": "https://localhost:8080/",
          "height": 718
        },
        "id": "5dBzVu2qbsV0",
        "outputId": "af5bfa8a-27b2-4a43-8140-6d11e3be535d"
      },
      "execution_count": null,
      "outputs": [
        {
          "output_type": "display_data",
          "data": {
            "text/plain": [
              "<Figure size 1000x800 with 1 Axes>"
            ],
            "image/png": "[encoded data removed]"
          },
          "metadata": {}
        }
      ]
    },
    {
      "cell_type": "markdown",
      "source": [
        "**Scatter Plot - Petal Length vs Petal width**"
      ],
      "metadata": {
        "id": "gVDQ9s42cFQu"
      }
    },
    {
      "cell_type": "code",
      "source": [
        "#Finding the relationship between Petal Length and Petal width\n",
        "featuresAll = []\n",
        "targets = []\n",
        "for feature in features:\n",
        "    featuresAll.append(feature[2]) #Petal length\n",
        "    targets.append(feature[3]) #Petal width\n",
        "\n",
        "groups = ('Iris-setosa','Iris-versicolor','Iris-virginica')\n",
        "colors = ('blue', 'green','red')\n",
        "data = ((featuresAll[:50], targets[:50]), (featuresAll[50:100], targets[50:100]),\n",
        "        (featuresAll[100:150], targets[100:150]))\n",
        "\n",
        "for item, color, group in zip(data,colors,groups):\n",
        "    x0, y0 = item\n",
        "    plt.scatter(x0, y0,color=color,alpha=1)\n",
        "    plt.title('Iris Dataset scatter Plot')\n",
        "plt.xlabel('Petal length')\n",
        "plt.ylabel('Petal width')\n",
        "plt.show()\n"
      ],
      "metadata": {
        "colab": {
          "base_uri": "https://localhost:8080/",
          "height": 718
        },
        "id": "YXkFqK1VcBtU",
        "outputId": "ceae2b1e-94f4-488c-9df5-3a8273d09c35"
      },
      "execution_count": null,
      "outputs": [
        {
          "output_type": "display_data",
          "data": {
            "text/plain": [
              "<Figure size 1000x800 with 1 Axes>"
            ],
            "image/png": "[encoded data removed]"
          },
          "metadata": {}
        }
      ]
    },
    {
      "cell_type": "markdown",
      "source": [
        "# Let's pull csv and do more visualization"
      ],
      "metadata": {
        "id": "dWOewoZGcb9V"
      }
    },
    {
      "cell_type": "code",
      "source": [
        "import pandas as pd\n",
        "iris_df = pd.read_csv(\"/content/Iris.csv\") #load the dataset\n",
        "iris_df.head(5)"
      ],
      "metadata": {
        "colab": {
          "base_uri": "https://localhost:8080/",
          "height": 206
        },
        "id": "K5FJdyWqcNd_",
        "outputId": "5bd2e6dc-e5db-4121-b20c-a6d29ca55880"
      },
      "execution_count": null,
      "outputs": [
        {
          "output_type": "execute_result",
          "data": {
            "text/plain": [
              "   Id  SepalLengthCm  SepalWidthCm  PetalLengthCm  PetalWidthCm      Species\n",
              "0   1            5.1           3.5            1.4           0.2  Iris-setosa\n",
              "1   2            4.9           3.0            1.4           0.2  Iris-setosa\n",
              "2   3            4.7           3.2            1.3           0.2  Iris-setosa\n",
              "3   4            4.6           3.1            1.5           0.2  Iris-setosa\n",
              "4   5            5.0           3.6            1.4           0.2  Iris-setosa"
            ],
            "text/html": [
              "\n",
              "\n",
              "  <div id=\"df-8163cd0e-c212-459d-97bd-e4316705553f\">\n",
              "    <div class=\"colab-df-container\">\n",
              "      <div>\n",
              "<style scoped>\n",
              "    .dataframe tbody tr th:only-of-type {\n",
              "        vertical-align: middle;\n",
              "    }\n",
              "\n",
              "    .dataframe tbody tr th {\n",
              "        vertical-align: top;\n",
              "    }\n",
              "\n",
              "    .dataframe thead th {\n",
              "        text-align: right;\n",
              "    }\n",
              "</style>\n",
              "<table border=\"1\" class=\"dataframe\">\n",
              "  <thead>\n",
              "    <tr style=\"text-align: right;\">\n",
              "      <th></th>\n",
              "      <th>Id</th>\n",
              "      <th>SepalLengthCm</th>\n",
              "      <th>SepalWidthCm</th>\n",
              "      <th>PetalLengthCm</th>\n",
              "      <th>PetalWidthCm</th>\n",
              "      <th>Species</th>\n",
              "    </tr>\n",
              "  </thead>\n",
              "  <tbody>\n",
              "    <tr>\n",
              "      <th>0</th>\n",
              "      <td>1</td>\n",
              "      <td>5.1</td>\n",
              "      <td>3.5</td>\n",
              "      <td>1.4</td>\n",
              "      <td>0.2</td>\n",
              "      <td>Iris-setosa</td>\n",
              "    </tr>\n",
              "    <tr>\n",
              "      <th>1</th>\n",
              "      <td>2</td>\n",
              "      <td>4.9</td>\n",
              "      <td>3.0</td>\n",
              "      <td>1.4</td>\n",
              "      <td>0.2</td>\n",
              "      <td>Iris-setosa</td>\n",
              "    </tr>\n",
              "    <tr>\n",
              "      <th>2</th>\n",
              "      <td>3</td>\n",
              "      <td>4.7</td>\n",
              "      <td>3.2</td>\n",
              "      <td>1.3</td>\n",
              "      <td>0.2</td>\n",
              "      <td>Iris-setosa</td>\n",
              "    </tr>\n",
              "    <tr>\n",
              "      <th>3</th>\n",
              "      <td>4</td>\n",
              "      <td>4.6</td>\n",
              "      <td>3.1</td>\n",
              "      <td>1.5</td>\n",
              "      <td>0.2</td>\n",
              "      <td>Iris-setosa</td>\n",
              "    </tr>\n",
              "    <tr>\n",
              "      <th>4</th>\n",
              "      <td>5</td>\n",
              "      <td>5.0</td>\n",
              "      <td>3.6</td>\n",
              "      <td>1.4</td>\n",
              "      <td>0.2</td>\n",
              "      <td>Iris-setosa</td>\n",
              "    </tr>\n",
              "  </tbody>\n",
              "</table>\n",
              "</div>\n",
              "      <button class=\"colab-df-convert\" onclick=\"convertToInteractive('df-8163cd0e-c212-459d-97bd-e4316705553f')\"\n",
              "              title=\"Convert this dataframe to an interactive table.\"\n",
              "              style=\"display:none;\">\n",
              "\n",
              "  <svg xmlns=\"http://www.w3.org/2000/svg\" height=\"24px\"viewBox=\"0 0 24 24\"\n",
              "       width=\"24px\">\n",
              "    <path d=\"M0 0h24v24H0V0z\" fill=\"none\"/>\n",
              "    <path d=\"M18.56 5.44l.94 2.06.94-2.06 2.06-.94-2.06-.94-.94-2.06-.94 2.06-2.06.94zm-11 1L8.5 8.5l.94-2.06 2.06-.94-2.06-.94L8.5 2.5l-.94 2.06-2.06.94zm10 10l.94 2.06.94-2.06 2.06-.94-2.06-.94-.94-2.06-.94 2.06-2.06.94z\"/><path d=\"M17.41 7.96l-1.37-1.37c-.4-.4-.92-.59-1.43-.59-.52 0-1.04.2-1.43.59L10.3 9.45l-7.72 7.72c-.78.78-.78 2.05 0 2.83L4 21.41c.39.39.9.59 1.41.59.51 0 1.02-.2 1.41-.59l7.78-7.78 2.81-2.81c.8-.78.8-2.07 0-2.86zM5.41 20L4 18.59l7.72-7.72 1.47 1.35L5.41 20z\"/>\n",
              "  </svg>\n",
              "      </button>\n",
              "\n",
              "\n",
              "\n",
              "    <div id=\"df-4ea35e0b-8371-45e0-be62-62395eafabd7\">\n",
              "      <button class=\"colab-df-quickchart\" onclick=\"quickchart('df-4ea35e0b-8371-45e0-be62-62395eafabd7')\"\n",
              "              title=\"Suggest charts.\"\n",
              "              style=\"display:none;\">\n",
              "\n",
              "<svg xmlns=\"http://www.w3.org/2000/svg\" height=\"24px\"viewBox=\"0 0 24 24\"\n",
              "     width=\"24px\">\n",
              "    <g>\n",
              "        <path d=\"M19 3H5c-1.1 0-2 .9-2 2v14c0 1.1.9 2 2 2h14c1.1 0 2-.9 2-2V5c0-1.1-.9-2-2-2zM9 17H7v-7h2v7zm4 0h-2V7h2v10zm4 0h-2v-4h2v4z\"/>\n",
              "    </g>\n",
              "</svg>\n",
              "      </button>\n",
              "    </div>\n",
              "\n",
              "<style>\n",
              "  .colab-df-quickchart {\n",
              "    background-color: #E8F0FE;\n",
              "    border: none;\n",
              "    border-radius: 50%;\n",
              "    cursor: pointer;\n",
              "    display: none;\n",
              "    fill: #1967D2;\n",
              "    height: 32px;\n",
              "    padding: 0 0 0 0;\n",
              "    width: 32px;\n",
              "  }\n",
              "\n",
              "  .colab-df-quickchart:hover {\n",
              "    background-color: #E2EBFA;\n",
              "    box-shadow: 0px 1px 2px rgba(60, 64, 67, 0.3), 0px 1px 3px 1px rgba(60, 64, 67, 0.15);\n",
              "    fill: #174EA6;\n",
              "  }\n",
              "\n",
              "  [theme=dark] .colab-df-quickchart {\n",
              "    background-color: #3B4455;\n",
              "    fill: #D2E3FC;\n",
              "  }\n",
              "\n",
              "  [theme=dark] .colab-df-quickchart:hover {\n",
              "    background-color: #434B5C;\n",
              "    box-shadow: 0px 1px 3px 1px rgba(0, 0, 0, 0.15);\n",
              "    filter: drop-shadow(0px 1px 2px rgba(0, 0, 0, 0.3));\n",
              "    fill: #FFFFFF;\n",
              "  }\n",
              "</style>\n",
              "\n",
              "    <script>\n",
              "      async function quickchart(key) {\n",
              "        const containerElement = document.querySelector('#' + key);\n",
              "        const charts = await google.colab.kernel.invokeFunction(\n",
              "            'suggestCharts', [key], {});\n",
              "      }\n",
              "    </script>\n",
              "\n",
              "      <script>\n",
              "\n",
              "function displayQuickchartButton(domScope) {\n",
              "  let quickchartButtonEl =\n",
              "    domScope.querySelector('#df-4ea35e0b-8371-45e0-be62-62395eafabd7 button.colab-df-quickchart');\n",
              "  quickchartButtonEl.style.display =\n",
              "    google.colab.kernel.accessAllowed ? 'block' : 'none';\n",
              "}\n",
              "\n",
              "        displayQuickchartButton(document);\n",
              "      </script>\n",
              "      <style>\n",
              "    .colab-df-container {\n",
              "      display:flex;\n",
              "      flex-wrap:wrap;\n",
              "      gap: 12px;\n",
              "    }\n",
              "\n",
              "    .colab-df-convert {\n",
              "      background-color: #E8F0FE;\n",
              "      border: none;\n",
              "      border-radius: 50%;\n",
              "      cursor: pointer;\n",
              "      display: none;\n",
              "      fill: #1967D2;\n",
              "      height: 32px;\n",
              "      padding: 0 0 0 0;\n",
              "      width: 32px;\n",
              "    }\n",
              "\n",
              "    .colab-df-convert:hover {\n",
              "      background-color: #E2EBFA;\n",
              "      box-shadow: 0px 1px 2px rgba(60, 64, 67, 0.3), 0px 1px 3px 1px rgba(60, 64, 67, 0.15);\n",
              "      fill: #174EA6;\n",
              "    }\n",
              "\n",
              "    [theme=dark] .colab-df-convert {\n",
              "      background-color: #3B4455;\n",
              "      fill: #D2E3FC;\n",
              "    }\n",
              "\n",
              "    [theme=dark] .colab-df-convert:hover {\n",
              "      background-color: #434B5C;\n",
              "      box-shadow: 0px 1px 3px 1px rgba(0, 0, 0, 0.15);\n",
              "      filter: drop-shadow(0px 1px 2px rgba(0, 0, 0, 0.3));\n",
              "      fill: #FFFFFF;\n",
              "    }\n",
              "  </style>\n",
              "\n",
              "      <script>\n",
              "        const buttonEl =\n",
              "          document.querySelector('#df-8163cd0e-c212-459d-97bd-e4316705553f button.colab-df-convert');\n",
              "        buttonEl.style.display =\n",
              "          google.colab.kernel.accessAllowed ? 'block' : 'none';\n",
              "\n",
              "        async function convertToInteractive(key) {\n",
              "          const element = document.querySelector('#df-8163cd0e-c212-459d-97bd-e4316705553f');\n",
              "          const dataTable =\n",
              "            await google.colab.kernel.invokeFunction('convertToInteractive',\n",
              "                                                     [key], {});\n",
              "          if (!dataTable) return;\n",
              "\n",
              "          const docLinkHtml = 'Like what you see? Visit the ' +\n",
              "            '<a target=\"_blank\" href=https://colab.research.google.com/notebooks/data_table.ipynb>data table notebook</a>'\n",
              "            + ' to learn more about interactive tables.';\n",
              "          element.innerHTML = '';\n",
              "          dataTable['output_type'] = 'display_data';\n",
              "          await google.colab.output.renderOutput(dataTable, element);\n",
              "          const docLink = document.createElement('div');\n",
              "          docLink.innerHTML = docLinkHtml;\n",
              "          element.appendChild(docLink);\n",
              "        }\n",
              "      </script>\n",
              "    </div>\n",
              "  </div>\n"
            ]
          },
          "metadata": {},
          "execution_count": 51
        }
      ]
    },
    {
      "cell_type": "code",
      "source": [
        "iris_df.plot(kind ='scatter', x ='SepalLengthCm', y ='SepalWidthCm')\n",
        "plt.show()"
      ],
      "metadata": {
        "colab": {
          "base_uri": "https://localhost:8080/",
          "height": 697
        },
        "id": "1zJiue-bcNKD",
        "outputId": "bbf61b6f-ef94-4802-c667-7994f535e050"
      },
      "execution_count": null,
      "outputs": [
        {
          "output_type": "display_data",
          "data": {
            "text/plain": [
              "<Figure size 1000x800 with 1 Axes>"
            ],
            "image/png": "[encoded data removed]"
          },
          "metadata": {}
        }
      ]
    },
    {
      "cell_type": "markdown",
      "source": [
        "**Histogram Plot**"
      ],
      "metadata": {
        "id": "90BplNQNcwzI"
      }
    },
    {
      "cell_type": "code",
      "source": [
        "exclude = ['Id']\n",
        "iris_df.loc[:, iris_df.columns.difference(exclude)].hist()\n",
        "plt.figure(figsize=(15,10))\n",
        "plt.show()"
      ],
      "metadata": {
        "id": "jj81EUslcuNC"
      },
      "execution_count": null,
      "outputs": []
    },
    {
      "cell_type": "markdown",
      "source": [
        "**Violin Plot**"
      ],
      "metadata": {
        "id": "H_eIQTBzdDIp"
      }
    },
    {
      "cell_type": "code",
      "source": [
        "import seaborn as sns\n",
        "plt.figure(figsize=(15,10))\n",
        "plt.subplot(2,2,1)\n",
        "sns.violinplot(x='Species',y='PetalLengthCm',data=iris_df)\n",
        "plt.subplot(2,2,2)\n",
        "sns.violinplot(x='Species',y='PetalWidthCm',data=iris_df)\n",
        "plt.subplot(2,2,3)\n",
        "sns.violinplot(x='Species',y='SepalLengthCm',data=iris_df)\n",
        "plt.subplot(2,2,4)\n",
        "sns.violinplot(x='Species',y='SepalWidthCm',data=iris_df)"
      ],
      "metadata": {
        "id": "g1aKSrKmcuHU"
      },
      "execution_count": null,
      "outputs": []
    },
    {
      "cell_type": "markdown",
      "source": [
        "**Co-relation matrix**"
      ],
      "metadata": {
        "id": "1KFBeWtFdJQP"
      }
    },
    {
      "cell_type": "code",
      "source": [
        "corr = iris_df.corr()\n",
        "corr"
      ],
      "metadata": {
        "id": "DzWhyzxDdG4i"
      },
      "execution_count": null,
      "outputs": []
    },
    {
      "cell_type": "code",
      "source": [
        "plt.figure(figsize=(10,8))\n",
        "sns.heatmap(corr,\n",
        "            xticklabels=corr.columns.values,\n",
        "            yticklabels=corr.columns.values,\n",
        "           cmap='viridis', annot=True)\n",
        "plt.show()"
      ],
      "metadata": {
        "id": "kAO09v11dR03"
      },
      "execution_count": null,
      "outputs": []
    },
    {
      "cell_type": "markdown",
      "source": [
        "# Data Pre-processing"
      ],
      "metadata": {
        "id": "6s2z_4LOdt9-"
      }
    },
    {
      "cell_type": "markdown",
      "source": [
        "**Null checks**"
      ],
      "metadata": {
        "id": "oSAcPGvQd9aQ"
      }
    },
    {
      "cell_type": "code",
      "source": [
        "# Check for missing values in the dataset\n",
        "null_counts = iris_df.isnull().sum()\n",
        "print(null_counts)"
      ],
      "metadata": {
        "id": "MGYVDn2YdW2Y"
      },
      "execution_count": null,
      "outputs": []
    },
    {
      "cell_type": "markdown",
      "source": [
        "**Feature scaling check**"
      ],
      "metadata": {
        "id": "iUTrzygPd_Vw"
      }
    },
    {
      "cell_type": "code",
      "source": [
        "from sklearn.preprocessing import StandardScaler\n",
        "\n",
        "iris_feature_df = pd.DataFrame(iris.data, columns=iris.feature_names)\n",
        "\n",
        "# Initialize the StandardScaler\n",
        "scaler = StandardScaler()\n",
        "\n",
        "# Fit the scaler on the training data and transform both training and testing data\n",
        "scaled_features = scaler.fit_transform(iris_feature_df)\n",
        "\n",
        "# Create a new DataFrame with the scaled features\n",
        "scaled_df = pd.DataFrame(scaled_features, columns=iris.feature_names)\n",
        "print(scaled_df.head())"
      ],
      "metadata": {
        "id": "LP_obXpAdWxf"
      },
      "execution_count": null,
      "outputs": []
    },
    {
      "cell_type": "markdown",
      "source": [
        "**Box plot for outlier detection**"
      ],
      "metadata": {
        "id": "anBkSlZHejsG"
      }
    },
    {
      "cell_type": "code",
      "source": [
        "# Create box plots for each feature\n",
        "plt.figure(figsize=(10, 6))\n",
        "iris_df.boxplot()\n",
        "plt.title(\"Box Plots for Features in Iris Dataset\")\n",
        "plt.show()"
      ],
      "metadata": {
        "id": "QpZ1lXkVeYET"
      },
      "execution_count": null,
      "outputs": []
    },
    {
      "cell_type": "markdown",
      "source": [
        "**Let's see if normalization is required**"
      ],
      "metadata": {
        "id": "F1lj-HtrfBf9"
      }
    },
    {
      "cell_type": "code",
      "source": [
        "from sklearn.preprocessing import MinMaxScaler\n",
        "\n",
        "# Initialize the MinMaxScaler\n",
        "scaler = MinMaxScaler()\n",
        "\n",
        "# Fit the scaler on the training data and transform both training and testing data\n",
        "normalized_features = scaler.fit_transform(iris_feature_df)\n",
        "\n",
        "# Create a new DataFrame with the normalized features\n",
        "normalized_df = pd.DataFrame(normalized_features, columns=iris.feature_names)\n",
        "print(normalized_df.head())"
      ],
      "metadata": {
        "id": "1GzBT80Iev50"
      },
      "execution_count": null,
      "outputs": []
    },
    {
      "cell_type": "markdown",
      "source": [
        "# Let's do Supervised learning on the data"
      ],
      "metadata": {
        "id": "OWovGMmefxhw"
      }
    },
    {
      "cell_type": "markdown",
      "source": [
        "**Using KNN as classifiers**"
      ],
      "metadata": {
        "id": "OxAFwq-nj3wX"
      }
    },
    {
      "cell_type": "code",
      "source": [
        "from sklearn.neighbors import KNeighborsClassifier\n",
        "knn = KNeighborsClassifier(n_neighbors=1)\n",
        "print (knn)"
      ],
      "metadata": {
        "id": "I6zhZ9_Cj2MJ"
      },
      "execution_count": null,
      "outputs": []
    },
    {
      "cell_type": "code",
      "source": [
        "X1 = np.asarray(featuresAll)\n",
        "X1 = X1.reshape(-1,1)\n",
        "X1.shape"
      ],
      "metadata": {
        "id": "lEOglqPwj3YS"
      },
      "execution_count": null,
      "outputs": []
    },
    {
      "cell_type": "code",
      "source": [
        "y = iris.target\n",
        "y.shape"
      ],
      "metadata": {
        "id": "dBbPOAlUkDJ7"
      },
      "execution_count": null,
      "outputs": []
    },
    {
      "cell_type": "code",
      "source": [
        "knn.fit(X1, y)"
      ],
      "metadata": {
        "id": "nnl5Xg4XkEca"
      },
      "execution_count": null,
      "outputs": []
    },
    {
      "cell_type": "code",
      "source": [
        "print(knn.predict([[6.4]]))"
      ],
      "metadata": {
        "id": "mLDr82HfkJjI"
      },
      "execution_count": null,
      "outputs": []
    },
    {
      "cell_type": "code",
      "source": [
        "print (knn.predict([[3.4]]))\n",
        "print (knn.predict(np.column_stack([[1.,6.1,3.2,4.2]])))"
      ],
      "metadata": {
        "id": "Tc26kU58kK-V"
      },
      "execution_count": null,
      "outputs": []
    },
    {
      "cell_type": "markdown",
      "source": [
        "**Linear Regression**"
      ],
      "metadata": {
        "id": "96tx5RPsgNNE"
      }
    },
    {
      "cell_type": "code",
      "source": [
        "X=iris.data\n",
        "y=iris.target"
      ],
      "metadata": {
        "id": "_QNzx7ADgDtu"
      },
      "execution_count": null,
      "outputs": []
    },
    {
      "cell_type": "code",
      "source": [
        "from sklearn.linear_model import LinearRegression\n",
        "from sklearn.model_selection import train_test_split\n",
        "\n",
        "\n",
        "X_train,X_test,y_train,y_test=train_test_split(X,y,test_size=0.25)\n",
        "model=LinearRegression()\n",
        "lin_model=model.fit(X_train,y_train)\n",
        "print(lin_model.score(X_test,y_test))"
      ],
      "metadata": {
        "id": "-hDV_uxnfMOe"
      },
      "execution_count": null,
      "outputs": []
    },
    {
      "cell_type": "code",
      "source": [
        "predictions=lin_model.predict(X_test)\n",
        "print(predictions)"
      ],
      "metadata": {
        "id": "Gj1itxUvfMGm"
      },
      "execution_count": null,
      "outputs": []
    },
    {
      "cell_type": "code",
      "source": [
        "lin_model.coef_"
      ],
      "metadata": {
        "id": "7xuZtL9uiYaX"
      },
      "execution_count": null,
      "outputs": []
    },
    {
      "cell_type": "code",
      "source": [
        "lin_model.intercept_"
      ],
      "metadata": {
        "id": "qcvLTWEfio2q"
      },
      "execution_count": null,
      "outputs": []
    },
    {
      "cell_type": "markdown",
      "source": [
        "**Logistic Regression**"
      ],
      "metadata": {
        "id": "iK6wtCd2gYxx"
      }
    },
    {
      "cell_type": "code",
      "source": [
        "from sklearn.linear_model import LogisticRegression\n",
        "\n",
        "logistic_model=LogisticRegression()\n",
        "log_model=logistic_model.fit(X_train,y_train)\n",
        "print(log_model.score(X_test,y_test))"
      ],
      "metadata": {
        "id": "KCzDdauIgMyl"
      },
      "execution_count": null,
      "outputs": []
    },
    {
      "cell_type": "code",
      "source": [
        "predictions_log=log_model.predict(X_test)\n",
        "print(predictions_log)"
      ],
      "metadata": {
        "id": "A7rgdBhpgtmF"
      },
      "execution_count": null,
      "outputs": []
    },
    {
      "cell_type": "markdown",
      "source": [
        "**Classification**"
      ],
      "metadata": {
        "id": "xrLx2_5ehdZ4"
      }
    },
    {
      "cell_type": "code",
      "source": [
        "#Train and test model\n",
        "from sklearn.naive_bayes import GaussianNB\n",
        "model_NB = GaussianNB()\n",
        "NB_fit = model_NB.fit(X_train ,y_train)\n",
        "predicted_nb = NB_fit.predict(X_test)\n",
        "predicted_nb"
      ],
      "metadata": {
        "id": "tWwI9dB1haHp"
      },
      "execution_count": null,
      "outputs": []
    },
    {
      "cell_type": "code",
      "source": [
        "print(X_test)\n",
        "print(predicted_nb)"
      ],
      "metadata": {
        "id": "qxCTVYPDh6qT"
      },
      "execution_count": null,
      "outputs": []
    },
    {
      "cell_type": "code",
      "source": [
        "from sklearn.metrics import accuracy_score\n",
        "accuracy_score(y_test, predicted_nb)"
      ],
      "metadata": {
        "id": "5hMRyxHvh6jC"
      },
      "execution_count": null,
      "outputs": []
    }
  ]
}